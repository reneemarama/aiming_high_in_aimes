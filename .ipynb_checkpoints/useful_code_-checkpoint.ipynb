{
 "cells": [
  {
   "cell_type": "markdown",
   "metadata": {},
   "source": [
    "**Creating Dummies**"
   ]
  },
  {
   "cell_type": "code",
   "execution_count": null,
   "metadata": {},
   "outputs": [],
   "source": [
    "#extracting the location embarked, and making a new column with said header, filling cell with 0, 1 respectively.\n",
    "dummy_E = pd.get_dummies(train['Embarked'], prefix='Embarked_')\n",
    "train = train.merge(dummy_E, left_index=True, right_index=True)\n",
    "\n",
    "#extracting the sex, and making a new column with said header, filling cell with 0, 1 respectively.\n",
    "dummy_S = pd.get_dummies(train['Sex'])\n",
    "dummy_S.rename(columns = {'female':'Female'}, inplace = True)  #Renaming column with capital F to keep consistent with df\n",
    "dummy_S.rename(columns = {'male':'Male'}, inplace = True)      #Renaming column with capital M to keep consistent with df\n",
    "\n",
    "train = train.merge(dummy_S, left_index=True, right_index=True)"
   ]
  },
  {
   "cell_type": "markdown",
   "metadata": {},
   "source": [
    "**Creating succinct scatter plots of all the numerical data**"
   ]
  },
  {
   "cell_type": "code",
   "execution_count": null,
   "metadata": {},
   "outputs": [],
   "source": [
    "sns.pairplot(df, y_vars=['Apps'], x_vars=[\"Private\", \"F.Undergrad\", \"Accept\", \"Enroll\"]);\n",
    "\n",
    "#If I don't want it wide, the I can put my list on the y_vars"
   ]
  },
  {
   "cell_type": "markdown",
   "metadata": {},
   "source": [
    "### <span style = 'color: red'> **What are** **PolyNomialFeatures** ?</span>"
   ]
  },
  {
   "cell_type": "code",
   "execution_count": null,
   "metadata": {},
   "outputs": [],
   "source": [
    "# Instantiate PolynomialFeatures\n",
    "\n",
    "poly = PolynomialFeatures(include_bias=False)"
   ]
  },
  {
   "cell_type": "code",
   "execution_count": null,
   "metadata": {},
   "outputs": [],
   "source": [
    "# Create X_poly\n",
    "\n",
    "X_poly = poly.fit_transform(X)\n",
    "X_poly"
   ]
  },
  {
   "cell_type": "code",
   "execution_count": null,
   "metadata": {},
   "outputs": [],
   "source": [
    "# View X_poly in a DataFrame\n",
    "\n",
    "poly.get_feature_names(features)\n",
    "\n",
    "pd.DataFrame(X_poly, columns = poly.get_feature_names(features)) #Turning it back into a data frame from a numpy array."
   ]
  },
  {
   "cell_type": "markdown",
   "metadata": {},
   "source": [
    "**Residuals**"
   ]
  },
  {
   "cell_type": "code",
   "execution_count": null,
   "metadata": {},
   "outputs": [],
   "source": [
    "resids = y - yhat  #Showing the difference between y and what we expect y to be\n",
    "np.mean(resids)\n",
    "\n",
    "#Plotting as a hist\n",
    "plt.hist(resids, bins = 20)\n",
    "plt.axvline(0, color = 'black');\n",
    "\n",
    "#plotting as a scatter\n",
    "plt.scatter(yhat, resids)\n",
    "plt.axhline(0, color='black');"
   ]
  },
  {
   "cell_type": "markdown",
   "metadata": {},
   "source": [
    "**MSE**"
   ]
  },
  {
   "cell_type": "code",
   "execution_count": null,
   "metadata": {},
   "outputs": [],
   "source": [
    "metrics.mean_squared_error(y, yhat)"
   ]
  },
  {
   "cell_type": "code",
   "execution_count": null,
   "metadata": {},
   "outputs": [],
   "source": []
  },
  {
   "cell_type": "code",
   "execution_count": null,
   "metadata": {},
   "outputs": [],
   "source": []
  },
  {
   "cell_type": "code",
   "execution_count": null,
   "metadata": {},
   "outputs": [],
   "source": []
  }
 ],
 "metadata": {
  "kernelspec": {
   "display_name": "Python 3",
   "language": "python",
   "name": "python3"
  },
  "language_info": {
   "codemirror_mode": {
    "name": "ipython",
    "version": 3
   },
   "file_extension": ".py",
   "mimetype": "text/x-python",
   "name": "python",
   "nbconvert_exporter": "python",
   "pygments_lexer": "ipython3",
   "version": "3.7.4"
  }
 },
 "nbformat": 4,
 "nbformat_minor": 4
}
