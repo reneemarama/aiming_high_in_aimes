{
 "cells": [
  {
   "cell_type": "code",
   "execution_count": 58,
   "metadata": {},
   "outputs": [],
   "source": [
    "import pandas as pd\n",
    "import numpy as np\n",
    "import matplotlib.pyplot as plt\n",
    "import seaborn as sns\n",
    "from scipy import stats\n",
    "from sklearn.linear_model import LinearRegression\n",
    "from sklearn.model_selection import train_test_split, cross_val_score\n",
    "from sklearn.metrics import r2_score, mean_squared_error\n"
   ]
  },
  {
   "cell_type": "code",
   "execution_count": 2,
   "metadata": {},
   "outputs": [],
   "source": [
    "train = pd.read_csv('./datasets/train.csv')"
   ]
  },
  {
   "cell_type": "markdown",
   "metadata": {},
   "source": [
    "# <span style = 'color: red'> Notes Link </span>\n",
    "\n",
    "https://docs.google.com/document/d/1xPUCgfMSbSYalZLlZeWmvHozMZ_xW75ZrgJ353WpIK0/edit?usp=sharing"
   ]
  },
  {
   "cell_type": "markdown",
   "metadata": {},
   "source": [
    "# <span style = 'color: blue' > Cleaning </span>"
   ]
  },
  {
   "cell_type": "markdown",
   "metadata": {},
   "source": [
    "**Viewing the DataFrame**"
   ]
  },
  {
   "cell_type": "markdown",
   "metadata": {},
   "source": [
    "## <span style = 'color:red'> Warning this needs to be changed for the next project: </span>\n",
    "\n",
    "Uncomment the code in the bottom of the cell"
   ]
  },
  {
   "cell_type": "code",
   "execution_count": 3,
   "metadata": {},
   "outputs": [],
   "source": [
    "pd.set_option('display.max_columns', None)\n",
    "\n",
    "# pd.set_option('display.max_columns', 20)"
   ]
  },
  {
   "cell_type": "code",
   "execution_count": 4,
   "metadata": {},
   "outputs": [
    {
     "data": {
      "text/html": [
       "<div>\n",
       "<style scoped>\n",
       "    .dataframe tbody tr th:only-of-type {\n",
       "        vertical-align: middle;\n",
       "    }\n",
       "\n",
       "    .dataframe tbody tr th {\n",
       "        vertical-align: top;\n",
       "    }\n",
       "\n",
       "    .dataframe thead th {\n",
       "        text-align: right;\n",
       "    }\n",
       "</style>\n",
       "<table border=\"1\" class=\"dataframe\">\n",
       "  <thead>\n",
       "    <tr style=\"text-align: right;\">\n",
       "      <th></th>\n",
       "      <th>Id</th>\n",
       "      <th>PID</th>\n",
       "      <th>MS SubClass</th>\n",
       "      <th>MS Zoning</th>\n",
       "      <th>Lot Frontage</th>\n",
       "      <th>Lot Area</th>\n",
       "      <th>Street</th>\n",
       "      <th>Alley</th>\n",
       "      <th>Lot Shape</th>\n",
       "      <th>Land Contour</th>\n",
       "      <th>Utilities</th>\n",
       "      <th>Lot Config</th>\n",
       "      <th>Land Slope</th>\n",
       "      <th>Neighborhood</th>\n",
       "      <th>Condition 1</th>\n",
       "      <th>Condition 2</th>\n",
       "      <th>Bldg Type</th>\n",
       "      <th>House Style</th>\n",
       "      <th>Overall Qual</th>\n",
       "      <th>Overall Cond</th>\n",
       "      <th>Year Built</th>\n",
       "      <th>Year Remod/Add</th>\n",
       "      <th>Roof Style</th>\n",
       "      <th>Roof Matl</th>\n",
       "      <th>Exterior 1st</th>\n",
       "      <th>Exterior 2nd</th>\n",
       "      <th>Mas Vnr Type</th>\n",
       "      <th>Mas Vnr Area</th>\n",
       "      <th>Exter Qual</th>\n",
       "      <th>Exter Cond</th>\n",
       "      <th>Foundation</th>\n",
       "      <th>Bsmt Qual</th>\n",
       "      <th>Bsmt Cond</th>\n",
       "      <th>Bsmt Exposure</th>\n",
       "      <th>BsmtFin Type 1</th>\n",
       "      <th>BsmtFin SF 1</th>\n",
       "      <th>BsmtFin Type 2</th>\n",
       "      <th>BsmtFin SF 2</th>\n",
       "      <th>Bsmt Unf SF</th>\n",
       "      <th>Total Bsmt SF</th>\n",
       "      <th>Heating</th>\n",
       "      <th>Heating QC</th>\n",
       "      <th>Central Air</th>\n",
       "      <th>Electrical</th>\n",
       "      <th>1st Flr SF</th>\n",
       "      <th>2nd Flr SF</th>\n",
       "      <th>Low Qual Fin SF</th>\n",
       "      <th>Gr Liv Area</th>\n",
       "      <th>Bsmt Full Bath</th>\n",
       "      <th>Bsmt Half Bath</th>\n",
       "      <th>Full Bath</th>\n",
       "      <th>Half Bath</th>\n",
       "      <th>Bedroom AbvGr</th>\n",
       "      <th>Kitchen AbvGr</th>\n",
       "      <th>Kitchen Qual</th>\n",
       "      <th>TotRms AbvGrd</th>\n",
       "      <th>Functional</th>\n",
       "      <th>Fireplaces</th>\n",
       "      <th>Fireplace Qu</th>\n",
       "      <th>Garage Type</th>\n",
       "      <th>Garage Yr Blt</th>\n",
       "      <th>Garage Finish</th>\n",
       "      <th>Garage Cars</th>\n",
       "      <th>Garage Area</th>\n",
       "      <th>Garage Qual</th>\n",
       "      <th>Garage Cond</th>\n",
       "      <th>Paved Drive</th>\n",
       "      <th>Wood Deck SF</th>\n",
       "      <th>Open Porch SF</th>\n",
       "      <th>Enclosed Porch</th>\n",
       "      <th>3Ssn Porch</th>\n",
       "      <th>Screen Porch</th>\n",
       "      <th>Pool Area</th>\n",
       "      <th>Pool QC</th>\n",
       "      <th>Fence</th>\n",
       "      <th>Misc Feature</th>\n",
       "      <th>Misc Val</th>\n",
       "      <th>Mo Sold</th>\n",
       "      <th>Yr Sold</th>\n",
       "      <th>Sale Type</th>\n",
       "      <th>SalePrice</th>\n",
       "    </tr>\n",
       "  </thead>\n",
       "  <tbody>\n",
       "    <tr>\n",
       "      <th>0</th>\n",
       "      <td>109</td>\n",
       "      <td>533352170</td>\n",
       "      <td>60</td>\n",
       "      <td>RL</td>\n",
       "      <td>NaN</td>\n",
       "      <td>13517</td>\n",
       "      <td>Pave</td>\n",
       "      <td>NaN</td>\n",
       "      <td>IR1</td>\n",
       "      <td>Lvl</td>\n",
       "      <td>AllPub</td>\n",
       "      <td>CulDSac</td>\n",
       "      <td>Gtl</td>\n",
       "      <td>Sawyer</td>\n",
       "      <td>RRAe</td>\n",
       "      <td>Norm</td>\n",
       "      <td>1Fam</td>\n",
       "      <td>2Story</td>\n",
       "      <td>6</td>\n",
       "      <td>8</td>\n",
       "      <td>1976</td>\n",
       "      <td>2005</td>\n",
       "      <td>Gable</td>\n",
       "      <td>CompShg</td>\n",
       "      <td>HdBoard</td>\n",
       "      <td>Plywood</td>\n",
       "      <td>BrkFace</td>\n",
       "      <td>289.0</td>\n",
       "      <td>Gd</td>\n",
       "      <td>TA</td>\n",
       "      <td>CBlock</td>\n",
       "      <td>TA</td>\n",
       "      <td>TA</td>\n",
       "      <td>No</td>\n",
       "      <td>GLQ</td>\n",
       "      <td>533.0</td>\n",
       "      <td>Unf</td>\n",
       "      <td>0.0</td>\n",
       "      <td>192.0</td>\n",
       "      <td>725.0</td>\n",
       "      <td>GasA</td>\n",
       "      <td>Ex</td>\n",
       "      <td>Y</td>\n",
       "      <td>SBrkr</td>\n",
       "      <td>725</td>\n",
       "      <td>754</td>\n",
       "      <td>0</td>\n",
       "      <td>1479</td>\n",
       "      <td>0.0</td>\n",
       "      <td>0.0</td>\n",
       "      <td>2</td>\n",
       "      <td>1</td>\n",
       "      <td>3</td>\n",
       "      <td>1</td>\n",
       "      <td>Gd</td>\n",
       "      <td>6</td>\n",
       "      <td>Typ</td>\n",
       "      <td>0</td>\n",
       "      <td>NaN</td>\n",
       "      <td>Attchd</td>\n",
       "      <td>1976.0</td>\n",
       "      <td>RFn</td>\n",
       "      <td>2.0</td>\n",
       "      <td>475.0</td>\n",
       "      <td>TA</td>\n",
       "      <td>TA</td>\n",
       "      <td>Y</td>\n",
       "      <td>0</td>\n",
       "      <td>44</td>\n",
       "      <td>0</td>\n",
       "      <td>0</td>\n",
       "      <td>0</td>\n",
       "      <td>0</td>\n",
       "      <td>NaN</td>\n",
       "      <td>NaN</td>\n",
       "      <td>NaN</td>\n",
       "      <td>0</td>\n",
       "      <td>3</td>\n",
       "      <td>2010</td>\n",
       "      <td>WD</td>\n",
       "      <td>130500</td>\n",
       "    </tr>\n",
       "    <tr>\n",
       "      <th>1</th>\n",
       "      <td>544</td>\n",
       "      <td>531379050</td>\n",
       "      <td>60</td>\n",
       "      <td>RL</td>\n",
       "      <td>43.0</td>\n",
       "      <td>11492</td>\n",
       "      <td>Pave</td>\n",
       "      <td>NaN</td>\n",
       "      <td>IR1</td>\n",
       "      <td>Lvl</td>\n",
       "      <td>AllPub</td>\n",
       "      <td>CulDSac</td>\n",
       "      <td>Gtl</td>\n",
       "      <td>SawyerW</td>\n",
       "      <td>Norm</td>\n",
       "      <td>Norm</td>\n",
       "      <td>1Fam</td>\n",
       "      <td>2Story</td>\n",
       "      <td>7</td>\n",
       "      <td>5</td>\n",
       "      <td>1996</td>\n",
       "      <td>1997</td>\n",
       "      <td>Gable</td>\n",
       "      <td>CompShg</td>\n",
       "      <td>VinylSd</td>\n",
       "      <td>VinylSd</td>\n",
       "      <td>BrkFace</td>\n",
       "      <td>132.0</td>\n",
       "      <td>Gd</td>\n",
       "      <td>TA</td>\n",
       "      <td>PConc</td>\n",
       "      <td>Gd</td>\n",
       "      <td>TA</td>\n",
       "      <td>No</td>\n",
       "      <td>GLQ</td>\n",
       "      <td>637.0</td>\n",
       "      <td>Unf</td>\n",
       "      <td>0.0</td>\n",
       "      <td>276.0</td>\n",
       "      <td>913.0</td>\n",
       "      <td>GasA</td>\n",
       "      <td>Ex</td>\n",
       "      <td>Y</td>\n",
       "      <td>SBrkr</td>\n",
       "      <td>913</td>\n",
       "      <td>1209</td>\n",
       "      <td>0</td>\n",
       "      <td>2122</td>\n",
       "      <td>1.0</td>\n",
       "      <td>0.0</td>\n",
       "      <td>2</td>\n",
       "      <td>1</td>\n",
       "      <td>4</td>\n",
       "      <td>1</td>\n",
       "      <td>Gd</td>\n",
       "      <td>8</td>\n",
       "      <td>Typ</td>\n",
       "      <td>1</td>\n",
       "      <td>TA</td>\n",
       "      <td>Attchd</td>\n",
       "      <td>1997.0</td>\n",
       "      <td>RFn</td>\n",
       "      <td>2.0</td>\n",
       "      <td>559.0</td>\n",
       "      <td>TA</td>\n",
       "      <td>TA</td>\n",
       "      <td>Y</td>\n",
       "      <td>0</td>\n",
       "      <td>74</td>\n",
       "      <td>0</td>\n",
       "      <td>0</td>\n",
       "      <td>0</td>\n",
       "      <td>0</td>\n",
       "      <td>NaN</td>\n",
       "      <td>NaN</td>\n",
       "      <td>NaN</td>\n",
       "      <td>0</td>\n",
       "      <td>4</td>\n",
       "      <td>2009</td>\n",
       "      <td>WD</td>\n",
       "      <td>220000</td>\n",
       "    </tr>\n",
       "  </tbody>\n",
       "</table>\n",
       "</div>"
      ],
      "text/plain": [
       "    Id        PID  MS SubClass MS Zoning  Lot Frontage  Lot Area Street Alley  \\\n",
       "0  109  533352170           60        RL           NaN     13517   Pave   NaN   \n",
       "1  544  531379050           60        RL          43.0     11492   Pave   NaN   \n",
       "\n",
       "  Lot Shape Land Contour Utilities Lot Config Land Slope Neighborhood  \\\n",
       "0       IR1          Lvl    AllPub    CulDSac        Gtl       Sawyer   \n",
       "1       IR1          Lvl    AllPub    CulDSac        Gtl      SawyerW   \n",
       "\n",
       "  Condition 1 Condition 2 Bldg Type House Style  Overall Qual  Overall Cond  \\\n",
       "0        RRAe        Norm      1Fam      2Story             6             8   \n",
       "1        Norm        Norm      1Fam      2Story             7             5   \n",
       "\n",
       "   Year Built  Year Remod/Add Roof Style Roof Matl Exterior 1st Exterior 2nd  \\\n",
       "0        1976            2005      Gable   CompShg      HdBoard      Plywood   \n",
       "1        1996            1997      Gable   CompShg      VinylSd      VinylSd   \n",
       "\n",
       "  Mas Vnr Type  Mas Vnr Area Exter Qual Exter Cond Foundation Bsmt Qual  \\\n",
       "0      BrkFace         289.0         Gd         TA     CBlock        TA   \n",
       "1      BrkFace         132.0         Gd         TA      PConc        Gd   \n",
       "\n",
       "  Bsmt Cond Bsmt Exposure BsmtFin Type 1  BsmtFin SF 1 BsmtFin Type 2  \\\n",
       "0        TA            No            GLQ         533.0            Unf   \n",
       "1        TA            No            GLQ         637.0            Unf   \n",
       "\n",
       "   BsmtFin SF 2  Bsmt Unf SF  Total Bsmt SF Heating Heating QC Central Air  \\\n",
       "0           0.0        192.0          725.0    GasA         Ex           Y   \n",
       "1           0.0        276.0          913.0    GasA         Ex           Y   \n",
       "\n",
       "  Electrical  1st Flr SF  2nd Flr SF  Low Qual Fin SF  Gr Liv Area  \\\n",
       "0      SBrkr         725         754                0         1479   \n",
       "1      SBrkr         913        1209                0         2122   \n",
       "\n",
       "   Bsmt Full Bath  Bsmt Half Bath  Full Bath  Half Bath  Bedroom AbvGr  \\\n",
       "0             0.0             0.0          2          1              3   \n",
       "1             1.0             0.0          2          1              4   \n",
       "\n",
       "   Kitchen AbvGr Kitchen Qual  TotRms AbvGrd Functional  Fireplaces  \\\n",
       "0              1           Gd              6        Typ           0   \n",
       "1              1           Gd              8        Typ           1   \n",
       "\n",
       "  Fireplace Qu Garage Type  Garage Yr Blt Garage Finish  Garage Cars  \\\n",
       "0          NaN      Attchd         1976.0           RFn          2.0   \n",
       "1           TA      Attchd         1997.0           RFn          2.0   \n",
       "\n",
       "   Garage Area Garage Qual Garage Cond Paved Drive  Wood Deck SF  \\\n",
       "0        475.0          TA          TA           Y             0   \n",
       "1        559.0          TA          TA           Y             0   \n",
       "\n",
       "   Open Porch SF  Enclosed Porch  3Ssn Porch  Screen Porch  Pool Area Pool QC  \\\n",
       "0             44               0           0             0          0     NaN   \n",
       "1             74               0           0             0          0     NaN   \n",
       "\n",
       "  Fence Misc Feature  Misc Val  Mo Sold  Yr Sold Sale Type  SalePrice  \n",
       "0   NaN          NaN         0        3     2010       WD      130500  \n",
       "1   NaN          NaN         0        4     2009       WD      220000  "
      ]
     },
     "execution_count": 4,
     "metadata": {},
     "output_type": "execute_result"
    }
   ],
   "source": [
    "train.head(2)"
   ]
  },
  {
   "cell_type": "code",
   "execution_count": 5,
   "metadata": {},
   "outputs": [
    {
     "data": {
      "text/plain": [
       "(2051, 81)"
      ]
     },
     "execution_count": 5,
     "metadata": {},
     "output_type": "execute_result"
    }
   ],
   "source": [
    "train.shape"
   ]
  },
  {
   "cell_type": "markdown",
   "metadata": {},
   "source": [
    "## Reformatting Columns and Column Names##"
   ]
  },
  {
   "cell_type": "markdown",
   "metadata": {},
   "source": [
    "**Creating `train_cols` Variable with all the Dataframe Columns:**"
   ]
  },
  {
   "cell_type": "code",
   "execution_count": 6,
   "metadata": {},
   "outputs": [],
   "source": [
    "train_cols = train.columns"
   ]
  },
  {
   "cell_type": "markdown",
   "metadata": {},
   "source": [
    "**Reformatting Column Names:**"
   ]
  },
  {
   "cell_type": "code",
   "execution_count": 7,
   "metadata": {},
   "outputs": [],
   "source": [
    "train.columns = [names.lower().replace(\" \", \"_\") for names in train_cols]\n",
    "# train "
   ]
  },
  {
   "cell_type": "markdown",
   "metadata": {},
   "source": [
    "**Renaming column `totrms_abvgrd` to `tot_rooms_abvgrd` for preference:**"
   ]
  },
  {
   "cell_type": "code",
   "execution_count": 8,
   "metadata": {},
   "outputs": [],
   "source": [
    "train.rename(columns = {'totrms_abvgrd': 'tot_rooms_abvgrd'}, inplace = True)"
   ]
  },
  {
   "cell_type": "markdown",
   "metadata": {},
   "source": [
    "**Updating the `train_cols` variable:**"
   ]
  },
  {
   "cell_type": "code",
   "execution_count": 9,
   "metadata": {},
   "outputs": [],
   "source": [
    "train_cols = train.columns"
   ]
  },
  {
   "cell_type": "markdown",
   "metadata": {},
   "source": [
    "**Checking the Null Values of each Column. Those not in View have 0 nulls:**"
   ]
  },
  {
   "cell_type": "code",
   "execution_count": 10,
   "metadata": {},
   "outputs": [],
   "source": [
    "# train.isnull().sum().sort_values(ascending = False).head(30)"
   ]
  },
  {
   "cell_type": "markdown",
   "metadata": {},
   "source": [
    "**Removing Houses With Square Footage over 4,000 as Recommended in the Data Dictionary:**"
   ]
  },
  {
   "cell_type": "code",
   "execution_count": 11,
   "metadata": {},
   "outputs": [
    {
     "data": {
      "text/plain": [
       "(2049, 81)"
      ]
     },
     "execution_count": 11,
     "metadata": {},
     "output_type": "execute_result"
    }
   ],
   "source": [
    "train = train[train['gr_liv_area'] < 4000]\n",
    "train.shape"
   ]
  },
  {
   "cell_type": "markdown",
   "metadata": {},
   "source": [
    "**Addressing A Typo:** In the above chart we can see there was a value where the garage was built in \"2207\", which of course is impossible. Sense we know the data if from years 2006-2010, and it'll have little statistical affect if we do it this way, we'll assume it was meant to be 2007."
   ]
  },
  {
   "cell_type": "code",
   "execution_count": 12,
   "metadata": {},
   "outputs": [],
   "source": [
    "train[train[\"garage_yr_blt\"] > 2020][\"garage_yr_blt\"] #Viewing where the location of the typo's cell is\n",
    "train.at[1699, \"garage_yr_blt\"] = float(2007) #Changing the cell to assumed correct value. Changing to a float because the rest of the values in the column are float. "
   ]
  },
  {
   "cell_type": "markdown",
   "metadata": {},
   "source": [
    "**Assigning Numerical Value to Ordinal Values in Catergorical Columns:**\n",
    "\n",
    "Excellent(Ex) : 5 \n",
    "\n",
    "Average/Average (TA) : 4 \n",
    "\n",
    "Good (Gd) : 3 \n",
    "\n",
    "Fair (Fa) : 2\n",
    "\n",
    "Poor (Po) : 1"
   ]
  },
  {
   "cell_type": "code",
   "execution_count": 13,
   "metadata": {},
   "outputs": [],
   "source": [
    "quality_numbers = { 'Ex' : 5 , 'TA' : 4 , 'Gd' : 3 , 'Fa': 2 , 'Po': 1}\n",
    "train.replace ({\n",
    "    'Heating QC': quality_numbers, \n",
    "    'Pool QC': quality_numbers, \n",
    "    'Garage Cond': quality_numbers, \n",
    "    'Garage Qual': quality_numbers, \n",
    "    'FireplaceQu': quality_numbers, \n",
    "    'KitchenQual': quality_numbers, \n",
    "    'Bsmt Cond' : quality_numbers, \n",
    "    'Bsmt Qual': quality_numbers, \n",
    "    'Exter Cond': quality_numbers, \n",
    "    'Exter Qual' : quality_numbers\n",
    "}, inplace=True)"
   ]
  },
  {
   "cell_type": "markdown",
   "metadata": {},
   "source": [
    "**Creating a Numerical Columns Variable Called `num_cols`:**"
   ]
  },
  {
   "cell_type": "code",
   "execution_count": 14,
   "metadata": {},
   "outputs": [],
   "source": [
    "num_cols = train._get_numeric_data()"
   ]
  },
  {
   "cell_type": "markdown",
   "metadata": {},
   "source": [
    "**Creating a Catergorial Columns List Called `cat_cols`:**"
   ]
  },
  {
   "cell_type": "code",
   "execution_count": 15,
   "metadata": {},
   "outputs": [],
   "source": [
    "#Code adapted from GeeksforGeeks.org          https://www.geeksforgeeks.org/python-difference-two-lists/\n",
    "\n",
    "def get_difference(lst_1, lst_2): \n",
    "    dif = (list(set(lst_1) - set(lst_2)))  #Subtracting the numerical cols from all the cols using sets\n",
    "    return dif\n",
    "                 \n",
    "cat_cols = get_difference(train_cols, num_cols)\n",
    "# cat_cols"
   ]
  },
  {
   "cell_type": "markdown",
   "metadata": {},
   "source": [
    "# <span style = \"color:blue\" > EDA </span>\n",
    "\n",
    "---\n",
    "---\n",
    "---"
   ]
  },
  {
   "cell_type": "markdown",
   "metadata": {},
   "source": [
    "**Viewing the Years this Dataset was Taken From**"
   ]
  },
  {
   "cell_type": "code",
   "execution_count": 16,
   "metadata": {},
   "outputs": [
    {
     "name": "stdout",
     "output_type": "stream",
     "text": [
      "years of houses sold in data:\n",
      "[2010 2009 2006 2007 2008]\n"
     ]
    }
   ],
   "source": [
    "print(\"years of houses sold in data:\")\n",
    "print(train['yr_sold'].unique())"
   ]
  },
  {
   "cell_type": "markdown",
   "metadata": {},
   "source": [
    "**Defining a Function that Prints the Columns by Simalities**"
   ]
  },
  {
   "cell_type": "code",
   "execution_count": 17,
   "metadata": {},
   "outputs": [],
   "source": [
    "prefixes =[\"bsmt\", \"gar\", \"pool\", \"exter\", \"sale\", \"sold\", \"bath\", \"area\", \"qu\", \"cond\", 'por', 'lot', \"roof\", \"room\", \"abvgr\", \"sf\"]\n",
    "\n",
    "def group_prefixes(cols_list, prefix_list):\n",
    "    grouped = []\n",
    "\n",
    "    for prefixes in prefix_list:\n",
    "        for columns in cols_list:\n",
    "            if prefixes in columns:\n",
    "                print(columns)\n",
    "                grouped.append(columns)  \n",
    "                \n",
    "        print(\"___\")\n",
    "        \n",
    "    diff = get_difference(cols_list, grouped)\n",
    "    \n",
    "    print(\"Number of columns not grouped:\", len(diff))\n",
    "    print(\"Columns that are NOT grouped:\")\n",
    "    print(\"___\")\n",
    "    \n",
    "    print(diff)"
   ]
  },
  {
   "cell_type": "markdown",
   "metadata": {},
   "source": [
    "**Viewing Similarities for All the Columns**"
   ]
  },
  {
   "cell_type": "code",
   "execution_count": 18,
   "metadata": {},
   "outputs": [],
   "source": [
    "# group_prefixes(train_cols, prefixes)"
   ]
  },
  {
   "cell_type": "markdown",
   "metadata": {},
   "source": [
    "## <span style = 'color: red'> Option 1) </span>\n",
    "**Plotting Correlation Between Numerical Columns and `saleprice`**"
   ]
  },
  {
   "cell_type": "code",
   "execution_count": 19,
   "metadata": {},
   "outputs": [],
   "source": [
    "\n",
    "# plt.figure()\n",
    "\n",
    "# for columns in num_cols:\n",
    "    \n",
    "    \n",
    "#     sns.regplot(x=columns, y=\"saleprice\", data=train);\n",
    "#     plt.title(f\"Correlation Between Sale Price and {columns}\", fontsize =20)\n",
    "#     plt.show()\n",
    " \n"
   ]
  },
  {
   "cell_type": "markdown",
   "metadata": {},
   "source": [
    "## <span style = 'color:red'> Optoin 2 </span>  \n",
    "\n",
    "**Plotting Correlation Between Numerical Columns and `saleprice`**"
   ]
  },
  {
   "cell_type": "code",
   "execution_count": 67,
   "metadata": {},
   "outputs": [],
   "source": [
    "#This needs a little editing to work, but it would view the plots more succinctly\n",
    "\n",
    "# sns.pairplot(train, y_vars=['saleprice'], x_vars=[num_cols]);"
   ]
  },
  {
   "cell_type": "markdown",
   "metadata": {},
   "source": [
    "**Plotting `num_cols` to Detect Ouliers:**"
   ]
  },
  {
   "cell_type": "code",
   "execution_count": 20,
   "metadata": {},
   "outputs": [],
   "source": [
    "# for columns in num_cols:\n",
    "#     sns.boxplot(x=train[columns]);\n",
    "#     plt.title(columns, fontsize = 20);\n",
    "#     plt.show()"
   ]
  },
  {
   "cell_type": "markdown",
   "metadata": {},
   "source": [
    "## <span style = 'color:red'> **If the half baths equals 0 or 1 I can just make a column of total baths, sense it doesn't idk what to do** </span>"
   ]
  },
  {
   "cell_type": "code",
   "execution_count": 21,
   "metadata": {},
   "outputs": [
    {
     "data": {
      "text/plain": [
       "array([1, 0, 2])"
      ]
     },
     "execution_count": 21,
     "metadata": {},
     "output_type": "execute_result"
    }
   ],
   "source": [
    "train['half_bath'].unique()"
   ]
  },
  {
   "cell_type": "markdown",
   "metadata": {},
   "source": [
    "**Number of Houses Sold Per Year:**"
   ]
  },
  {
   "cell_type": "code",
   "execution_count": 22,
   "metadata": {},
   "outputs": [
    {
     "name": "stdout",
     "output_type": "stream",
     "text": [
      "Number of houses sold:\n"
     ]
    },
    {
     "data": {
      "image/png": "[encoded data removed]",
      "text/plain": [
       "<Figure size 432x288 with 1 Axes>"
      ]
     },
     "metadata": {
      "needs_background": "light"
     },
     "output_type": "display_data"
    }
   ],
   "source": [
    "print(\"Number of houses sold:\")\n",
    "train.groupby('yr_sold')['id'].count().sort_values().plot(kind ='bar');"
   ]
  },
  {
   "cell_type": "markdown",
   "metadata": {},
   "source": [
    "**Correlation Between Lot Size and Price Excluding Outliers Above 6,000 sq. ft.**"
   ]
  },
  {
   "cell_type": "code",
   "execution_count": 23,
   "metadata": {},
   "outputs": [
    {
     "data": {
      "image/png": "[encoded data removed]",
      "text/plain": [
       "<Figure size 432x288 with 1 Axes>"
      ]
     },
     "metadata": {
      "needs_background": "light"
     },
     "output_type": "display_data"
    }
   ],
   "source": [
    "sm_lot = train[train['lot_area'] < 6000][['lot_area', 'saleprice']]\n",
    "\n",
    "sns.regplot(x='lot_area', y=\"saleprice\", data=sm_lot);\n",
    "# \n",
    "# sm_lot\n",
    "# train[train['Lot Area'] < 6000].plot()"
   ]
  },
  {
   "cell_type": "markdown",
   "metadata": {},
   "source": [
    "**Correlation Between Number of Car Garage and Garage Area (sq. ft)**\n",
    "\n",
    "-We can resonably get rid of of of the columns because they're redundant"
   ]
  },
  {
   "cell_type": "code",
   "execution_count": 24,
   "metadata": {},
   "outputs": [
    {
     "data": {
      "image/png": "[encoded data removed]",
      "text/plain": [
       "<Figure size 432x288 with 1 Axes>"
      ]
     },
     "metadata": {
      "needs_background": "light"
     },
     "output_type": "display_data"
    }
   ],
   "source": [
    "sns.regplot(x='garage_cars', y=\"garage_area\", data=train);"
   ]
  },
  {
   "cell_type": "markdown",
   "metadata": {},
   "source": [
    "**Loop plotting bar graphs of catergorical columns and how often each element shows up in the data**"
   ]
  },
  {
   "cell_type": "code",
   "execution_count": 25,
   "metadata": {},
   "outputs": [],
   "source": [
    "# for cols in cat_cols:\n",
    "#     train.groupby(cols)[cols].count().sort_values().plot(kind ='bar');\n",
    "#     plt.show()"
   ]
  },
  {
   "cell_type": "markdown",
   "metadata": {},
   "source": [
    "**Viewing How Many Homes are not `1fam` (single family homes)**"
   ]
  },
  {
   "cell_type": "code",
   "execution_count": 26,
   "metadata": {},
   "outputs": [
    {
     "data": {
      "text/plain": [
       "2049"
      ]
     },
     "execution_count": 26,
     "metadata": {},
     "output_type": "execute_result"
    }
   ],
   "source": [
    "train[train['bldg_type'] != '1fam']['bldg_type'].count()\n",
    "\n",
    "# sns.regplot(x='Bldg Type', y='SalePrice', data=no_1fam);\n",
    "\n",
    "# no_1fam.count()\n",
    "\n",
    "# train.groupby(cols)[cols].count().sort_values().plot(kind ='bar');\n"
   ]
  },
  {
   "cell_type": "markdown",
   "metadata": {},
   "source": [
    "**Viewing Columns Correlation to Saleprice:**"
   ]
  },
  {
   "cell_type": "code",
   "execution_count": 27,
   "metadata": {},
   "outputs": [
    {
     "data": {
      "text/html": [
       "<div>\n",
       "<style scoped>\n",
       "    .dataframe tbody tr th:only-of-type {\n",
       "        vertical-align: middle;\n",
       "    }\n",
       "\n",
       "    .dataframe tbody tr th {\n",
       "        vertical-align: top;\n",
       "    }\n",
       "\n",
       "    .dataframe thead th {\n",
       "        text-align: right;\n",
       "    }\n",
       "</style>\n",
       "<table border=\"1\" class=\"dataframe\">\n",
       "  <thead>\n",
       "    <tr style=\"text-align: right;\">\n",
       "      <th></th>\n",
       "      <th>saleprice</th>\n",
       "    </tr>\n",
       "  </thead>\n",
       "  <tbody>\n",
       "    <tr>\n",
       "      <th>pid</th>\n",
       "      <td>-0.255068</td>\n",
       "    </tr>\n",
       "    <tr>\n",
       "      <th>enclosed_porch</th>\n",
       "      <td>-0.135713</td>\n",
       "    </tr>\n",
       "    <tr>\n",
       "      <th>kitchen_abvgr</th>\n",
       "      <td>-0.125472</td>\n",
       "    </tr>\n",
       "    <tr>\n",
       "      <th>overall_cond</th>\n",
       "      <td>-0.097093</td>\n",
       "    </tr>\n",
       "    <tr>\n",
       "      <th>ms_subclass</th>\n",
       "      <td>-0.087331</td>\n",
       "    </tr>\n",
       "    <tr>\n",
       "      <th>id</th>\n",
       "      <td>-0.051416</td>\n",
       "    </tr>\n",
       "    <tr>\n",
       "      <th>bsmt_half_bath</th>\n",
       "      <td>-0.045571</td>\n",
       "    </tr>\n",
       "    <tr>\n",
       "      <th>low_qual_fin_sf</th>\n",
       "      <td>-0.041608</td>\n",
       "    </tr>\n",
       "    <tr>\n",
       "      <th>yr_sold</th>\n",
       "      <td>-0.015174</td>\n",
       "    </tr>\n",
       "    <tr>\n",
       "      <th>misc_val</th>\n",
       "      <td>-0.010323</td>\n",
       "    </tr>\n",
       "    <tr>\n",
       "      <th>bsmtfin_sf_2</th>\n",
       "      <td>0.016222</td>\n",
       "    </tr>\n",
       "    <tr>\n",
       "      <th>pool_area</th>\n",
       "      <td>0.025805</td>\n",
       "    </tr>\n",
       "    <tr>\n",
       "      <th>mo_sold</th>\n",
       "      <td>0.032508</td>\n",
       "    </tr>\n",
       "    <tr>\n",
       "      <th>3ssn_porch</th>\n",
       "      <td>0.048721</td>\n",
       "    </tr>\n",
       "    <tr>\n",
       "      <th>screen_porch</th>\n",
       "      <td>0.134555</td>\n",
       "    </tr>\n",
       "    <tr>\n",
       "      <th>bedroom_abvgr</th>\n",
       "      <td>0.137145</td>\n",
       "    </tr>\n",
       "    <tr>\n",
       "      <th>bsmt_unf_sf</th>\n",
       "      <td>0.190231</td>\n",
       "    </tr>\n",
       "    <tr>\n",
       "      <th>2nd_flr_sf</th>\n",
       "      <td>0.248826</td>\n",
       "    </tr>\n",
       "    <tr>\n",
       "      <th>half_bath</th>\n",
       "      <td>0.283372</td>\n",
       "    </tr>\n",
       "    <tr>\n",
       "      <th>bsmt_full_bath</th>\n",
       "      <td>0.284763</td>\n",
       "    </tr>\n",
       "    <tr>\n",
       "      <th>lot_area</th>\n",
       "      <td>0.303744</td>\n",
       "    </tr>\n",
       "    <tr>\n",
       "      <th>wood_deck_sf</th>\n",
       "      <td>0.327629</td>\n",
       "    </tr>\n",
       "    <tr>\n",
       "      <th>open_porch_sf</th>\n",
       "      <td>0.338545</td>\n",
       "    </tr>\n",
       "    <tr>\n",
       "      <th>lot_frontage</th>\n",
       "      <td>0.355530</td>\n",
       "    </tr>\n",
       "    <tr>\n",
       "      <th>bsmtfin_sf_1</th>\n",
       "      <td>0.445764</td>\n",
       "    </tr>\n",
       "    <tr>\n",
       "      <th>fireplaces</th>\n",
       "      <td>0.473783</td>\n",
       "    </tr>\n",
       "    <tr>\n",
       "      <th>tot_rooms_abvgrd</th>\n",
       "      <td>0.509775</td>\n",
       "    </tr>\n",
       "    <tr>\n",
       "      <th>mas_vnr_area</th>\n",
       "      <td>0.520023</td>\n",
       "    </tr>\n",
       "    <tr>\n",
       "      <th>full_bath</th>\n",
       "      <td>0.538225</td>\n",
       "    </tr>\n",
       "    <tr>\n",
       "      <th>garage_yr_blt</th>\n",
       "      <td>0.541553</td>\n",
       "    </tr>\n",
       "    <tr>\n",
       "      <th>year_remod/add</th>\n",
       "      <td>0.550872</td>\n",
       "    </tr>\n",
       "    <tr>\n",
       "      <th>year_built</th>\n",
       "      <td>0.572405</td>\n",
       "    </tr>\n",
       "    <tr>\n",
       "      <th>1st_flr_sf</th>\n",
       "      <td>0.648252</td>\n",
       "    </tr>\n",
       "    <tr>\n",
       "      <th>garage_cars</th>\n",
       "      <td>0.648667</td>\n",
       "    </tr>\n",
       "    <tr>\n",
       "      <th>garage_area</th>\n",
       "      <td>0.655483</td>\n",
       "    </tr>\n",
       "    <tr>\n",
       "      <th>total_bsmt_sf</th>\n",
       "      <td>0.664819</td>\n",
       "    </tr>\n",
       "    <tr>\n",
       "      <th>gr_liv_area</th>\n",
       "      <td>0.719463</td>\n",
       "    </tr>\n",
       "    <tr>\n",
       "      <th>overall_qual</th>\n",
       "      <td>0.803462</td>\n",
       "    </tr>\n",
       "    <tr>\n",
       "      <th>saleprice</th>\n",
       "      <td>1.000000</td>\n",
       "    </tr>\n",
       "  </tbody>\n",
       "</table>\n",
       "</div>"
      ],
      "text/plain": [
       "                  saleprice\n",
       "pid               -0.255068\n",
       "enclosed_porch    -0.135713\n",
       "kitchen_abvgr     -0.125472\n",
       "overall_cond      -0.097093\n",
       "ms_subclass       -0.087331\n",
       "id                -0.051416\n",
       "bsmt_half_bath    -0.045571\n",
       "low_qual_fin_sf   -0.041608\n",
       "yr_sold           -0.015174\n",
       "misc_val          -0.010323\n",
       "bsmtfin_sf_2       0.016222\n",
       "pool_area          0.025805\n",
       "mo_sold            0.032508\n",
       "3ssn_porch         0.048721\n",
       "screen_porch       0.134555\n",
       "bedroom_abvgr      0.137145\n",
       "bsmt_unf_sf        0.190231\n",
       "2nd_flr_sf         0.248826\n",
       "half_bath          0.283372\n",
       "bsmt_full_bath     0.284763\n",
       "lot_area           0.303744\n",
       "wood_deck_sf       0.327629\n",
       "open_porch_sf      0.338545\n",
       "lot_frontage       0.355530\n",
       "bsmtfin_sf_1       0.445764\n",
       "fireplaces         0.473783\n",
       "tot_rooms_abvgrd   0.509775\n",
       "mas_vnr_area       0.520023\n",
       "full_bath          0.538225\n",
       "garage_yr_blt      0.541553\n",
       "year_remod/add     0.550872\n",
       "year_built         0.572405\n",
       "1st_flr_sf         0.648252\n",
       "garage_cars        0.648667\n",
       "garage_area        0.655483\n",
       "total_bsmt_sf      0.664819\n",
       "gr_liv_area        0.719463\n",
       "overall_qual       0.803462\n",
       "saleprice          1.000000"
      ]
     },
     "execution_count": 27,
     "metadata": {},
     "output_type": "execute_result"
    }
   ],
   "source": [
    "#Code adapted from classmate Pete Plass\n",
    "\n",
    "train_corr = train.corr()\n",
    "train_corr[['saleprice']].sort_values(\"saleprice\", ascending=True)\n"
   ]
  },
  {
   "cell_type": "markdown",
   "metadata": {},
   "source": [
    "**Creating a List with Columns that Seem to Have Little Impact on Sale Price Called `insig_cols`:**"
   ]
  },
  {
   "cell_type": "code",
   "execution_count": 28,
   "metadata": {},
   "outputs": [],
   "source": [
    "insig_cols = [\n",
    "'pid',\n",
    "'enclosed_porch',\n",
    "'kitchen_abvgr',\n",
    "'overall_cond',\n",
    "'ms_subclass',\n",
    "'id',\n",
    "'bsmt_half_bath',\n",
    "'low_qual_fin_sf',\n",
    "'yr_sold',\n",
    "'misc_val',\n",
    "# 'bsmtfin_sf',\n",
    "'pool_area',\n",
    "'mo_sold',\n",
    "# 'ssn_porch',\n",
    "'bsmt_cond',\n",
    "'screen_porch',\n",
    "'bedroom_abvgr',\n",
    "'garage_cond',\n",
    "'garage_qual',\n",
    "'exter_cond',\n",
    "'bsmt_qual',\n",
    "'bsmt_unf_sf',\n",
    "]\n",
    "\n",
    "train.drop(columns = insig_cols, inplace = True);  #Dropping the columns from the insignifanct columns list (less than .2 corr)"
   ]
  },
  {
   "cell_type": "markdown",
   "metadata": {},
   "source": [
    "**Correlation between saleprice and numerical columns**"
   ]
  },
  {
   "cell_type": "code",
   "execution_count": 29,
   "metadata": {},
   "outputs": [
    {
     "data": {
      "image/png": "[encoded data removed]",
      "text/plain": [
       "<Figure size 432x1152 with 2 Axes>"
      ]
     },
     "metadata": {
      "needs_background": "light"
     },
     "output_type": "display_data"
    }
   ],
   "source": [
    "price_corr = train.corr()[['saleprice']].sort_values('saleprice', ascending = False)\n",
    "\n",
    "\n",
    "plt.figure(figsize= (6,16))\n",
    "sns.heatmap(price_corr, annot=True);"
   ]
  },
  {
   "cell_type": "markdown",
   "metadata": {},
   "source": [
    "**Average Sale Price Per Neighborhood**"
   ]
  },
  {
   "cell_type": "code",
   "execution_count": 30,
   "metadata": {},
   "outputs": [
    {
     "data": {
      "image/png": "[encoded data removed]",
      "text/plain": [
       "<Figure size 432x288 with 1 Axes>"
      ]
     },
     "metadata": {
      "needs_background": "light"
     },
     "output_type": "display_data"
    }
   ],
   "source": [
    "train.groupby('neighborhood')['neighborhood', 'saleprice'].mean().sort_values('saleprice').plot(kind ='bar');\n",
    "\n",
    "plt.ylabel('Average Sale Price');\n",
    "plt.title('Average Sale Price per Neighbrhood');"
   ]
  },
  {
   "cell_type": "markdown",
   "metadata": {},
   "source": [
    "**Creating a Variable with Columns that Seem to Have a High Correlation to Sale Price called `sig_cols`:**"
   ]
  },
  {
   "cell_type": "code",
   "execution_count": 41,
   "metadata": {},
   "outputs": [],
   "source": [
    "# sig_cols = train[['overall_qual', 'gr_liv_area', 'total_bsmt_sf', 'garage_area', 'garage_cars', '1st_flr_sf', 'year_built', 'full_bath', 'tot_rooms_abvgrd']]"
   ]
  },
  {
   "cell_type": "code",
   "execution_count": null,
   "metadata": {},
   "outputs": [],
   "source": [
    "Sig_cols_w_nulls + ['garage_cars', 'garage_area', 'total_bsmt_sf']"
   ]
  },
  {
   "cell_type": "code",
   "execution_count": 42,
   "metadata": {},
   "outputs": [],
   "source": [
    "sig_cols = train[['overall_qual', 'gr_liv_area', '1st_flr_sf', 'year_built', 'full_bath', 'tot_rooms_abvgrd']]"
   ]
  },
  {
   "cell_type": "code",
   "execution_count": 43,
   "metadata": {},
   "outputs": [
    {
     "data": {
      "text/plain": [
       "overall_qual        0\n",
       "gr_liv_area         0\n",
       "1st_flr_sf          0\n",
       "year_built          0\n",
       "full_bath           0\n",
       "tot_rooms_abvgrd    0\n",
       "dtype: int64"
      ]
     },
     "execution_count": 43,
     "metadata": {},
     "output_type": "execute_result"
    }
   ],
   "source": [
    "sig_cols.isnull().sum()"
   ]
  },
  {
   "cell_type": "markdown",
   "metadata": {},
   "source": [
    "# <span style = 'color:blue'> Modeling </span> \n",
    "\n",
    "--- \n",
    "---"
   ]
  },
  {
   "cell_type": "code",
   "execution_count": 44,
   "metadata": {},
   "outputs": [],
   "source": [
    "X = sig_cols\n",
    "features = list(X.columns)\n",
    "y = train['saleprice']"
   ]
  },
  {
   "cell_type": "markdown",
   "metadata": {},
   "source": [
    "**Train/Test/Split**"
   ]
  },
  {
   "cell_type": "code",
   "execution_count": 45,
   "metadata": {},
   "outputs": [],
   "source": [
    "X_train, X_test, y_train, y_test = train_test_split(X, y)"
   ]
  },
  {
   "cell_type": "markdown",
   "metadata": {},
   "source": [
    "**Instantiating the Model:**"
   ]
  },
  {
   "cell_type": "code",
   "execution_count": 46,
   "metadata": {},
   "outputs": [],
   "source": [
    "lr = LinearRegression()"
   ]
  },
  {
   "cell_type": "markdown",
   "metadata": {},
   "source": [
    "### <span style = 'color: red'> What does `lr.coef_` do/mean in reality? </span>"
   ]
  },
  {
   "cell_type": "code",
   "execution_count": 69,
   "metadata": {},
   "outputs": [
    {
     "data": {
      "text/plain": [
       "array([18957.53173025,    77.06917979,    42.84766434,   509.55390437,\n",
       "       -9815.60559855, -4438.37434867])"
      ]
     },
     "execution_count": 69,
     "metadata": {},
     "output_type": "execute_result"
    }
   ],
   "source": [
    "lr.coef_"
   ]
  },
  {
   "cell_type": "markdown",
   "metadata": {},
   "source": [
    "### <span style = 'color: red'> What does `lr.intercept_` do/mean in reality? </span>"
   ]
  },
  {
   "cell_type": "code",
   "execution_count": 70,
   "metadata": {},
   "outputs": [
    {
     "data": {
      "text/plain": [
       "-1059784.121899646"
      ]
     },
     "execution_count": 70,
     "metadata": {},
     "output_type": "execute_result"
    }
   ],
   "source": [
    "lr.intercept_"
   ]
  },
  {
   "cell_type": "markdown",
   "metadata": {},
   "source": [
    "**Getting the Average R2 Score for the Cross Valdition of `X_test` and `y_test` Model:**"
   ]
  },
  {
   "cell_type": "code",
   "execution_count": 47,
   "metadata": {},
   "outputs": [
    {
     "data": {
      "text/plain": [
       "0.8057854891366674"
      ]
     },
     "execution_count": 47,
     "metadata": {},
     "output_type": "execute_result"
    }
   ],
   "source": [
    "cross_val_score(lr, X_train, y_train, cv=5).mean()\n",
    "\n",
    "# cross_val_score(lr, X_train, y_train, cv=5).mean() #R2 score "
   ]
  },
  {
   "cell_type": "markdown",
   "metadata": {},
   "source": [
    " **Fitting the Model to `X_test` and `y_test`:**"
   ]
  },
  {
   "cell_type": "code",
   "execution_count": 49,
   "metadata": {},
   "outputs": [
    {
     "data": {
      "text/plain": [
       "LinearRegression(copy_X=True, fit_intercept=True, n_jobs=None, normalize=False)"
      ]
     },
     "execution_count": 49,
     "metadata": {},
     "output_type": "execute_result"
    }
   ],
   "source": [
    "lr.fit(X_test, y_test)"
   ]
  },
  {
   "cell_type": "markdown",
   "metadata": {},
   "source": [
    "**Getting the R2 Scores for `X_test` and `y_test` Model:**"
   ]
  },
  {
   "cell_type": "code",
   "execution_count": 52,
   "metadata": {},
   "outputs": [
    {
     "data": {
      "text/plain": [
       "0.8163362495250844"
      ]
     },
     "execution_count": 52,
     "metadata": {},
     "output_type": "execute_result"
    }
   ],
   "source": [
    "lr.score(X_test, y_test)"
   ]
  },
  {
   "cell_type": "markdown",
   "metadata": {},
   "source": [
    "**Getting the R2 Scores for `X_train` and `y_train` Model:**"
   ]
  },
  {
   "cell_type": "code",
   "execution_count": 54,
   "metadata": {},
   "outputs": [
    {
     "data": {
      "text/plain": [
       "0.8034684561566008"
      ]
     },
     "execution_count": 54,
     "metadata": {},
     "output_type": "execute_result"
    }
   ],
   "source": [
    "lr.score(X_train, y_train)"
   ]
  },
  {
   "cell_type": "markdown",
   "metadata": {},
   "source": [
    "**Predictions:**"
   ]
  },
  {
   "cell_type": "code",
   "execution_count": 56,
   "metadata": {},
   "outputs": [],
   "source": [
    "predictions = lr.predict(X_test)"
   ]
  },
  {
   "cell_type": "markdown",
   "metadata": {},
   "source": [
    "### <span style = 'color:red'> What does this mean in reality? </span>\n",
    "\n",
    "? Does it mean that our model, on average, is $32,606 off from predicting saleprices?"
   ]
  },
  {
   "cell_type": "code",
   "execution_count": 59,
   "metadata": {},
   "outputs": [
    {
     "data": {
      "text/plain": [
       "32606.9545038977"
      ]
     },
     "execution_count": 59,
     "metadata": {},
     "output_type": "execute_result"
    }
   ],
   "source": [
    "np.sqrt(mean_squared_error(y_test, predictions))"
   ]
  },
  {
   "cell_type": "code",
   "execution_count": 60,
   "metadata": {},
   "outputs": [
    {
     "data": {
      "text/plain": [
       "0.8163362495250845"
      ]
     },
     "execution_count": 60,
     "metadata": {},
     "output_type": "execute_result"
    }
   ],
   "source": [
    "r2_score(y_test, predictions)"
   ]
  },
  {
   "cell_type": "code",
   "execution_count": null,
   "metadata": {},
   "outputs": [],
   "source": []
  }
 ],
 "metadata": {
  "kernelspec": {
   "display_name": "Python 3",
   "language": "python",
   "name": "python3"
  },
  "language_info": {
   "codemirror_mode": {
    "name": "ipython",
    "version": 3
   },
   "file_extension": ".py",
   "mimetype": "text/x-python",
   "name": "python",
   "nbconvert_exporter": "python",
   "pygments_lexer": "ipython3",
   "version": "3.7.4"
  }
 },
 "nbformat": 4,
 "nbformat_minor": 4
}
